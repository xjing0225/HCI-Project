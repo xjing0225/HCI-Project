{
 "cells": [
  {
   "cell_type": "code",
   "execution_count": 28,
   "id": "d57da208",
   "metadata": {},
   "outputs": [],
   "source": [
    "import sqlite3\n",
    "import os\n",
    "import shutil\n",
    "import pandas as pd\n",
    "import matplotlib.pyplot as plt\n",
    "import datetime as datetime\n",
    "from datetime import datetime as dt\n",
    "from urllib.parse import urlparse\n",
    "import pytz\n",
    "from urllib.parse import urlparse, parse_qs\n",
    "from IPython.display import display, HTML"
   ]
  },
  {
   "cell_type": "code",
   "execution_count": 29,
   "id": "ee9003bd",
   "metadata": {},
   "outputs": [],
   "source": [
    "#locate the browsing history database\n",
    "history_db_path = r'C:\\Users\\xjing\\AppData\\Local\\Google\\Chrome\\User Data\\Profile 5\\History'\n",
    "\n",
    "# Create a copy of the database to avoid issues with running Chrome at the same time\n",
    "temp_history_db_path = r'C:\\Users\\xjing\\AppData\\Local\\Temp\\History_Copy'\n",
    "shutil.copyfile(history_db_path, temp_history_db_path)\n",
    "\n",
    "#connect to the SQLite database\n",
    "conn = sqlite3.connect(temp_history_db_path)\n",
    "cursor = conn.cursor() \n",
    "\n",
    "#sql query for obtaining the url,url title and visit time of browsing histories\n",
    "query = \"\"\"\n",
    "    SELECT \n",
    "        visits.id, \n",
    "        urls.url, \n",
    "        urls.title, \n",
    "        visits.visit_time, \n",
    "        keyword_search_terms.term AS search_term\n",
    "    FROM \n",
    "        visits\n",
    "    INNER JOIN \n",
    "        urls ON visits.url = urls.id\n",
    "    LEFT JOIN \n",
    "        keyword_search_terms ON visits.url = keyword_search_terms.url_id\n",
    "\"\"\"\n",
    "#read the obtained data into a dataframe\n",
    "df = pd.read_sql_query(query, conn)\n",
    "\n",
    "# convert the visit_time to readable format,in Melbourne timezone\n",
    "def convert_time(timestamp):\n",
    "    melbourne_tz = pytz.timezone('Australia/Melbourne')\n",
    "    dt = datetime.datetime(1601, 1, 1,tzinfo=pytz.UTC) + datetime.timedelta(microseconds=timestamp)\n",
    "    dt = dt.astimezone(melbourne_tz)\n",
    "    return dt.replace(microsecond=0)\n",
    "\n",
    "# apply the function to the 'visit_time' column\n",
    "df['visit_time'] = df['visit_time'].apply(convert_time)\n",
    "\n",
    "#close the database connection\n",
    "conn.close()\n",
    "\n",
    "#remove temporary copy\n",
    "os.remove(temp_history_db_path)"
   ]
  },
  {
   "cell_type": "code",
   "execution_count": 30,
   "id": "f2f1eb22",
   "metadata": {},
   "outputs": [],
   "source": [
    "#process the browsing hisstory\n",
    "#if the records have the same url and were visited within the same second, keep only one of them.\n",
    "\n",
    "df['visit_time_second'] = df['visit_time'].dt.floor('S')\n",
    "duplicates = df.duplicated(subset=['visit_time_second', 'url'], keep='last')\n",
    "df_filtered = df[~duplicates]\n",
    "\n",
    "# drop the 'visit_time_second' column\n",
    "df_filtered = df_filtered.drop(columns='visit_time_second')\n",
    "df_filtered.reset_index(drop=True, inplace=True)"
   ]
  },
  {
   "cell_type": "code",
   "execution_count": 31,
   "id": "adbf2d98",
   "metadata": {},
   "outputs": [],
   "source": [
    "# consider how to process the \"duplicated\" urls resulted from ad click tracking ,auto-refresh etc, consider standardizing them?"
   ]
  },
  {
   "cell_type": "code",
   "execution_count": 32,
   "id": "995aeac3",
   "metadata": {},
   "outputs": [],
   "source": [
    "def standardize_url(url):\n",
    "    parsed = urlparse(url)\n",
    "    # keep only the scheme, netloc (domain), and path (ignoring parameters, queries, fragments)\n",
    "    return f\"{parsed.scheme}://{parsed.netloc}{parsed.path}\""
   ]
  },
  {
   "cell_type": "code",
   "execution_count": 35,
   "id": "9d236cf0",
   "metadata": {},
   "outputs": [
    {
     "name": "stdout",
     "output_type": "stream",
     "text": [
      "Date:2023-09-07\n",
      "==================================================\n",
      "https://en.wikipedia.org/wiki/Ultimate_Fighting_Championship#Anti-doping_policy,Ultimate Fighting Championship - Wikipedia,18:16:04\n",
      "https://en.wikipedia.org/wiki/Ultimate_Fighting_Championship#UFC_events,Ultimate Fighting Championship - Wikipedia,18:15:33\n",
      "https://en.wikipedia.org/wiki/Ultimate_Fighting_Championship#UFC_Hall_of_Fame,Ultimate Fighting Championship - Wikipedia,18:15:30\n",
      "https://en.wikipedia.org/wiki/Ultimate_Fighting_Championship,Ultimate Fighting Championship - Wikipedia,18:13:51\n",
      "https://www.google.com/search?q=ufc&oq=&aqs=chrome.0.69i59i450l8.2502j0j15&sourceid=chrome&ie=UTF-8&bshm=rime/1,ufc - Google Search,18:13:47\n",
      "https://www.google.com/search?q=ufc&oq=&aqs=chrome.0.69i59i450l8.2502j0j15&sourceid=chrome&ie=UTF-8,ufc - Google Search,18:13:45\n",
      "https://www.google.com/search?q=ufc&oq=&aqs=chrome.0.69i59i450l8.2502j0j15&sourceid=chrome&ie=UTF-8,ufc - Google Search,18:13:44\n",
      "https://www.formula1.com/,F1 - The Official Home of Formula 1® Racing,13:22:15\n",
      "https://www.formula1.com/,F1 - The Official Home of Formula 1® Racing,13:22:10\n",
      "https://www.google.com/search?q=f1&oq=f1&aqs=chrome.0.0i271j46i67i433i650j0i67i433i650l2j0i67i131i433i650j0i67i650l2j0i67i433i650j0i67i650l2.6955j0j15&sourceid=chrome&ie=UTF-8&bshm=rime/1#ip=1,f1 - Google Search,13:20:58\n",
      "https://www.google.com/search?q=f1&oq=f1&aqs=chrome.0.0i271j46i67i433i650j0i67i433i650l2j0i67i131i433i650j0i67i650l2j0i67i433i650j0i67i650l2.6955j0j15&sourceid=chrome&ie=UTF-8&bshm=rime/1,f1 - Google Search,13:20:52\n",
      "https://www.google.com/search?q=f1&oq=f1&aqs=chrome.0.0i271j46i67i433i650j0i67i433i650l2j0i67i131i433i650j0i67i650l2j0i67i433i650j0i67i650l2.6955j0j15&sourceid=chrome&ie=UTF-8,f1 - Google Search,13:20:51\n",
      "https://www.google.com/search?q=f1&oq=f1&aqs=chrome.0.0i271j46i67i433i650j0i67i433i650l2j0i67i131i433i650j0i67i650l2j0i67i433i650j0i67i650l2.6955j0j15&sourceid=chrome&ie=UTF-8,f1 - Google Search,13:20:50\n",
      "https://www.ufc.com/,The Official Home of Ultimate Fighting Championship | UFC.com,13:19:45\n",
      "https://www.google.com/search?q=ufc&oq=ufc&aqs=chrome.0.0i271j46i131i433i512j0i131i433i512j69i64j0i131i433i512j69i61j69i60l2.665j1j7&sourceid=chrome&ie=UTF-8&bshm=rime/1,ufc - Google Search,13:19:42\n",
      "https://www.google.com/search?q=ufc&oq=ufc&aqs=chrome.0.0i271j46i131i433i512j0i131i433i512j69i64j0i131i433i512j69i61j69i60l2.665j1j7&sourceid=chrome&ie=UTF-8,ufc - Google Search,13:19:41\n",
      "https://www.google.com/search?q=ufc&oq=ufc&aqs=chrome.0.0i271j46i131i433i512j0i131i433i512j69i64j0i131i433i512j69i61j69i60l2.665j1j7&sourceid=chrome&ie=UTF-8,ufc - Google Search,13:19:40\n",
      "https://blog.hubspot.com/website/center-div-css,11 Ways to Center Div or Text in Div in CSS,12:51:18\n",
      "https://blog.hubspot.com/website/center-div-css,11 Ways to Center Div or Text in Div in CSS,12:51:00\n",
      "https://www.google.com/search?q=center+a+div&oq=&aqs=chrome.6.69i59i450l8.7597j0j15&sourceid=chrome&ie=UTF-8&bshm=rime/1,center a div - Google Search,12:50:59\n",
      "https://www.google.com/search?q=center+a+div&oq=&aqs=chrome.6.69i59i450l8.7597j0j15&sourceid=chrome&ie=UTF-8,center a div - Google Search,12:50:57\n",
      "https://chrome.google.com/webstore/category/extensions?hl=en,Chrome Web Store - Extensions,11:43:10\n",
      "https://chrome.google.com/webstore?hl=en,Chrome Web Store - Extensions,11:43:09\n",
      "chrome-extension://pnmchffiealhkdloeffcdnbgdnedheme/search.html,History Trends Unlimited: Search,11:37:22\n",
      "chrome-extension://pnmchffiealhkdloeffcdnbgdnedheme/trends.html,History Trends Unlimited,11:37:21\n",
      "https://www.google.com/search?q=mma&oq=mma&aqs=chrome..69i57j0i67i650l2j0i512l3j46i175i199i512j0i512j0i457i512j0i402i512.6807j0j15&sourceid=chrome&ie=UTF-8&bshm=rime/1,mma - Google Search,11:36:36\n",
      "https://www.google.com/search?q=mma&oq=mma&aqs=chrome..69i57j0i67i650l2j0i512l3j46i175i199i512j0i512j0i457i512j0i402i512.6807j0j15&sourceid=chrome&ie=UTF-8&bshm=rime/1,rime/1,mma - Google Search,11:36:36\n",
      "https://www.google.com/search?q=mma&oq=mma&aqs=chrome..69i57j0i67i650l2j0i512l3j46i175i199i512j0i512j0i457i512j0i402i512.6807j0j15&sourceid=chrome&ie=UTF-8,mma - Google Search,11:36:33\n",
      "chrome-extension://pnmchffiealhkdloeffcdnbgdnedheme/search.html,History Trends Unlimited: Search,11:35:28\n",
      "chrome-extension://pnmchffiealhkdloeffcdnbgdnedheme/search.html,History Trends Unlimited: Search,11:35:14\n",
      "chrome-extension://pnmchffiealhkdloeffcdnbgdnedheme/trends.html,History Trends Unlimited,11:35:12\n",
      "https://www.mmafighting.com/,UFC, Mixed Martial Arts (MMA) News, Results: MMA Fighting,11:33:41\n",
      "https://www.mmafighting.com/,UFC, Mixed Martial Arts (MMA) News, Results: MMA Fighting,11:33:40\n",
      "https://www.google.com/search?q=mma&oq=mma&aqs=chrome..69i57j0i67i650l2j0i512l3j46i175i199i512j0i512j0i457i512j0i402i512.6807j0j15&sourceid=chrome&ie=UTF-8&bshm=rime/1,mma - Google Search,11:33:39\n",
      "https://www.google.com/search?q=mma&oq=mma&aqs=chrome..69i57j0i67i650l2j0i512l3j46i175i199i512j0i512j0i457i512j0i402i512.6807j0j15&sourceid=chrome&ie=UTF-8,mma - Google Search,11:33:36\n",
      "https://www.google.com/search?q=mma&oq=mma&aqs=chrome..69i57j0i67i650l2j0i512l3j46i175i199i512j0i512j0i457i512j0i402i512.6807j0j15&sourceid=chrome&ie=UTF-8,mma - Google Search,11:33:35\n",
      "https://github.com/richgong/history-by-date,GitHub - richgong/history-by-date: A Chrome extension that lets you browse your history by date, instead of infinite scroll.,11:29:33\n",
      "https://github.com/richgong/history-by-date,GitHub - richgong/history-by-date: A Chrome extension that lets you browse your history by date, instead of infinite scroll.,11:29:32\n",
      "https://www.google.com/search?q=history+trends+unlimited+github&oq=history+trends+unlimited+github&aqs=chrome..69i57j0i546l2.10141j0j15&sourceid=chrome&ie=UTF-8&bshm=rime/1,history trends unlimited github - Google Search,11:29:30\n",
      "https://www.google.com/search?q=history+trends+unlimited+github&oq=history+trends+unlimited+github&aqs=chrome..69i57j0i546l2.10141j0j15&sourceid=chrome&ie=UTF-8,history trends unlimited github - Google Search,11:29:29\n",
      "https://www.google.com/search?q=history+trends+unlimited+github&oq=history+trends+unlimited+github&aqs=chrome..69i57j0i546l2.10141j0j15&sourceid=chrome&ie=UTF-8,history trends unlimited github - Google Search,11:29:28\n",
      "chrome-extension://pnmchffiealhkdloeffcdnbgdnedheme/trends.html,History Trends Unlimited,11:28:59\n",
      "chrome-extension://pnmchffiealhkdloeffcdnbgdnedheme/options.html,History Trends Unlimited: Options,11:28:58\n",
      "chrome-extension://pnmchffiealhkdloeffcdnbgdnedheme/changelog.html,History Trends Unlimited: Changelog,11:28:58\n",
      "chrome-extension://pnmchffiealhkdloeffcdnbgdnedheme/search.html,History Trends Unlimited: Search,11:25:29\n",
      "chrome-extension://pnmchffiealhkdloeffcdnbgdnedheme/trends.html,History Trends Unlimited,11:25:27\n",
      "chrome-extension://pnmchffiealhkdloeffcdnbgdnedheme/search.html,History Trends Unlimited: Search,10:51:33\n",
      "chrome-extension://pnmchffiealhkdloeffcdnbgdnedheme/trends.html,History Trends Unlimited,10:51:22\n",
      "https://chrome.google.com/webstore/search/history%20trends,Chrome Web Store - history trends,10:51:08\n",
      "https://chrome.google.com/webstore/detail/history-trends-unlimited/pnmchffiealhkdloeffcdnbgdnedheme,History Trends Unlimited - Chrome Web Store,10:51:04\n",
      "https://chrome.google.com/webstore/search/history%20trends,Chrome Web Store - history trends,10:50:53\n",
      "https://chrome.google.com/webstore/category/extensions,Chrome Web Store - Extensions,10:50:45\n",
      "https://chrome.google.com/webstore,Chrome Web Store - Extensions,10:50:44\n",
      "https://www.google.com/search?q=chrome+web+store&oq=chrome+web+store&aqs=chrome.0.0i67i433i650j0i67i650j0i512l3j0i67i650j69i60l2.4512j0j7&sourceid=chrome&ie=UTF-8,chrome web store - Google Search,10:50:43\n",
      "\n",
      "Date:2023-09-06\n",
      "==================================================\n",
      "https://chrome.google.com/webstore/detail/better-history/egehpkpgpgooebopjihjmnpejnjafefi/related,Better History - Chrome Web Store,21:40:29\n",
      "https://chrome.google.com/webstore/detail/better-history/egehpkpgpgooebopjihjmnpejnjafefi,Better History - Chrome Web Store,21:40:07\n",
      "https://www.google.com/search?q=browse+history+%2B+extension&sca_esv=563044254&ei=CWX4ZJb_LZyo4-EPpOeW4AQ&ved=0ahUKEwjWp-Cd85WBAxUc1DgGHaSzBUwQ4dUDCBA&uact=5&oq=browse+history+%2B+extension&gs_lp=Egxnd3Mtd2l6LXNlcnAiGmJyb3dzZSBoaXN0b3J5ICsgZXh0ZW5zaW9uMgYQABgWGB4yBhAAGBYYHjIGEAAYFhgeMgYQABgWGB4yCBAAGBYYHhgPMggQABgWGB4YDzIIEAAYCBgeGA0yCBAAGIoFGIYDMggQABiKBRiGAzIIEAAYigUYhgNIsRNQnwFYoBFwAngBkAEAmAHpAaAB0g-qAQUwLjcuNLgBA8gBAPgBAcICChAAGEcY1gQYsAPCAggQABgWGB4YCuIDBBgAIEGIBgGQBgg&sclient=gws-wiz-serp&bshm=rime/1,browse history + extension - Google Search,21:40:02\n",
      "https://www.google.com/search?q=browse+history+%2B+extension&sca_esv=563044254&ei=CWX4ZJb_LZyo4-EPpOeW4AQ&ved=0ahUKEwjWp-Cd85WBAxUc1DgGHaSzBUwQ4dUDCBA&uact=5&oq=browse+history+%2B+extension&gs_lp=Egxnd3Mtd2l6LXNlcnAiGmJyb3dzZSBoaXN0b3J5ICsgZXh0ZW5zaW9uMgYQABgWGB4yBhAAGBYYHjIGEAAYFhgeMgYQABgWGB4yCBAAGBYYHhgPMggQABgWGB4YDzIIEAAYCBgeGA0yCBAAGIoFGIYDMggQABiKBRiGAzIIEAAYigUYhgNIsRNQnwFYoBFwAngBkAEAmAHpAaAB0g-qAQUwLjcuNLgBA8gBAPgBAcICChAAGEcY1gQYsAPCAggQABgWGB4YCuIDBBgAIEGIBgGQBgg&sclient=gws-wiz-serp,browse history + extension - Google Search,21:40:01\n",
      "https://www.google.com/search?q=browse+history+%2B&oq=browse+history+%2B&aqs=chrome..69i57j0i22i30j0i10i22i30j0i22i30l7.6586j0j7&sourceid=chrome&ie=UTF-8,browse history + - Google Search,21:40:00\n",
      "https://www.google.com/search?q=browse+history+%2B+extension&sca_esv=563044254&ei=CWX4ZJb_LZyo4-EPpOeW4AQ&ved=0ahUKEwjWp-Cd85WBAxUc1DgGHaSzBUwQ4dUDCBA&uact=5&oq=browse+history+%2B+extension&gs_lp=Egxnd3Mtd2l6LXNlcnAiGmJyb3dzZSBoaXN0b3J5ICsgZXh0ZW5zaW9uMgYQABgWGB4yBhAAGBYYHjIGEAAYFhgeMgYQABgWGB4yCBAAGBYYHhgPMggQABgWGB4YDzIIEAAYCBgeGA0yCBAAGIoFGIYDMggQABiKBRiGAzIIEAAYigUYhgNIsRNQnwFYoBFwAngBkAEAmAHpAaAB0g-qAQUwLjcuNLgBA8gBAPgBAcICChAAGEcY1gQYsAPCAggQABgWGB4YCuIDBBgAIEGIBgGQBgg&sclient=gws-wiz-serp,browse history + extension - Google Search,21:40:00\n",
      "https://www.google.com/search?q=browse+history+%2B&oq=browse+history+%2B&aqs=chrome..69i57j0i22i30j0i10i22i30j0i22i30l7.6586j0j7&sourceid=chrome&ie=UTF-8&bshm=rime/1,browse history + - Google Search,21:39:55\n",
      "https://www.google.com/search?q=browse+history+%2B&oq=browse+history+%2B&aqs=chrome..69i57j0i22i30j0i10i22i30j0i22i30l7.6586j0j7&sourceid=chrome&ie=UTF-8,browse history + - Google Search,21:39:54\n",
      "https://www.google.com/search?q=browse+history+%2B&oq=browse+history+%2B&aqs=chrome..69i57j0i22i30j0i10i22i30j0i22i30l7.6586j0j7&sourceid=chrome&ie=UTF-8,browse history + - Google Search,21:39:53\n",
      "chrome-extension://amlfhnjjeeoiehoilfojobcadegeddio/history.html,Chrome History Grouping,21:39:02\n",
      "https://www.google.com/search?q=ufc&sca_esv=563044254&ei=eWD4ZPSCCf2K4-EPxMy46AQ&ved=0ahUKEwi0o8Lw7pWBAxV9xTgGHUQmDk0Q4dUDCBA&oq=ufc&gs_lp=Egxnd3Mtd2l6LXNlcnAiA3VmY0gAUABYAHAAeAGQAQCYAQCgAQCqAQC4AQzIAQDiAwQYACBB&sclient=gws-wiz-serp&bshm=rime/1,ufc - Google Search,21:20:31\n",
      "https://www.google.com/search?q=ufc&sca_esv=563044254&ei=eWD4ZPSCCf2K4-EPxMy46AQ&ved=0ahUKEwi0o8Lw7pWBAxV9xTgGHUQmDk0Q4dUDCBA&oq=ufc&gs_lp=Egxnd3Mtd2l6LXNlcnAiA3VmY0gAUABYAHAAeAGQAQCYAQCgAQCqAQC4AQzIAQDiAwQYACBB&sclient=gws-wiz-serp,ufc - Google Search,21:20:31\n",
      "https://www.google.com/search?q=ufc&sca_esv=563044254&ei=eWD4ZPSCCf2K4-EPxMy46AQ&ved=0ahUKEwi0o8Lw7pWBAxV9xTgGHUQmDk0Q4dUDCBA&oq=ufc&gs_lp=Egxnd3Mtd2l6LXNlcnAiA3VmY0gAUABYAHAAeAGQAQCYAQCgAQCqAQC4AQzIAQDiAwQYACBB&sclient=gws-wiz-serp,ufc - Google Search,21:20:29\n",
      "https://www.google.com/search?q=ufc&sca_esv=563044254&ei=eWD4ZPSCCf2K4-EPxMy46AQ&ved=0ahUKEwi0o8Lw7pWBAxV9xTgGHUQmDk0Q4dUDCBA&oq=ufc&gs_lp=Egxnd3Mtd2l6LXNlcnAiA3VmY0gAUABYAHAAeAGQAQCYAQCgAQCqAQC4AQzIAQDiAwQYACBB&sclient=gws-wiz-serp,ufc - Google Search,21:20:28\n",
      "https://www.google.com/search?q=ufc&oq=&aqs=chrome.0.69i59i450l5j46i3i143i362j0i3i66i143i362l2.630j0j15&sourceid=chrome&ie=UTF-8,ufc - Google Search,21:20:26\n",
      "https://www.google.com/search?q=ufc&oq=&aqs=chrome.0.69i59i450l5j46i3i143i362j0i3i66i143i362l2.630j0j15&sourceid=chrome&ie=UTF-8,ufc - Google Search,21:20:25\n",
      "https://en.wikipedia.org/wiki/Ultimate_Fighting_Championship,Ultimate Fighting Championship - Wikipedia,20:48:58\n",
      "https://www.google.com/search?q=ufc&oq=&aqs=chrome.0.69i59i450l5j46i3i143i362l2j0i3i66i143i362.1317j0j15&sourceid=chrome&ie=UTF-8,ufc - Google Search,20:48:52\n",
      "https://www.google.com/search?q=ufc&oq=&aqs=chrome.0.69i59i450l5j46i3i143i362l2j0i3i66i143i362.1317j0j15&sourceid=chrome&ie=UTF-8&bshm=rime/1,ufc - Google Search,20:48:52\n",
      "https://welcome.ufcfightpass.com/region/australia?gad=1&gclid=EAIaIQobChMIqePE5-eVgQMVMRmDAx3_ZQw-EAAYASAAEgIK5fD_BwE,UFC Fight Pass,20:48:50\n",
      "https://www.googleadservices.com/pagead/aclk?sa=L&ai=DChcSEwip48Tn55WBAxUxGYMDHf9lDD4YABAAGgJzZg&gclid=EAIaIQobChMIqePE5-eVgQMVMRmDAx3_ZQw-EAAYASAAEgIK5fD_BwE&ohost=www.google.com&cid=CAASJuRopIcNONyp1achTZzR-3NTtr1U9ktyYt71DyLnTNibzd3rxwNc&sig=AOD64_3z93sGeCmwKVmZRXwJZAapBeBUFg&q&adurl&ved=2ahUKEwj2vb7n55WBAxUB1jgGHeyTDEwQ0Qx6BAgQEAE&nis=7,UFC Fight Pass,20:48:49\n",
      "https://welcome.ufcfightpass.com/?gad=1&gclid=EAIaIQobChMIqePE5-eVgQMVMRmDAx3_ZQw-EAAYASAAEgIK5fD_BwE,UFC Fight Pass,20:48:49\n",
      "https://www.google.com/search?q=ufc&oq=&aqs=chrome.0.69i59i450l5j46i3i143i362l2j0i3i66i143i362.1317j0j15&sourceid=chrome&ie=UTF-8,ufc - Google Search,20:48:48\n",
      "https://www.google.com/search?q=ufc&oq=&aqs=chrome.0.69i59i450l5j46i3i143i362l2j0i3i66i143i362.1317j0j15&sourceid=chrome&ie=UTF-8,ufc - Google Search,20:48:47\n",
      "\n",
      "Date:2023-09-03\n",
      "==================================================\n",
      "chrome-extension://amlfhnjjeeoiehoilfojobcadegeddio/history.html,Chrome History Grouping,10:45:46\n",
      "https://www.ufc.com/,The Official Home of Ultimate Fighting Championship | UFC.com,10:45:21\n",
      "https://www.google.com/search?q=ufc&oq=&aqs=chrome.3.69i59i450l5j0i3i66i143i362l3.1479j0j15&sourceid=chrome&ie=UTF-8&bshm=rime/1,ufc - Google Search,10:45:00\n",
      "https://www.google.com/search?q=ufc&oq=&aqs=chrome.3.69i59i450l5j0i3i66i143i362l3.1479j0j15&sourceid=chrome&ie=UTF-8,ufc - Google Search,10:44:59\n",
      "https://www.google.com/search?q=ufc&oq=&aqs=chrome.3.69i59i450l5j0i3i66i143i362l3.1479j0j15&sourceid=chrome&ie=UTF-8,ufc - Google Search,10:44:58\n",
      "\n",
      "Date:2023-09-02\n",
      "==================================================\n",
      "https://www.freecodecamp.org/news/how-to-center-anything-with-css-align-a-div-text-and-more/,How to Center Anything with CSS - Align a Div, Text, and More,12:24:00\n",
      "https://www.google.com/search?q=center+a+div&oq=center+a+div&aqs=chrome.0.0i512l10.3560j0j7&sourceid=chrome&ie=UTF-8&bshm=rime/1,center a div - Google Search,12:23:54\n",
      "https://www.google.com/search?q=center+a+div&oq=center+a+div&aqs=chrome.0.0i512l10.3560j0j7&sourceid=chrome&ie=UTF-8,center a div - Google Search,12:23:51\n",
      "https://www.google.com/search?q=center+a+div&oq=center+a+div&aqs=chrome.0.0i512l10.3560j0j7&sourceid=chrome&ie=UTF-8,center a div - Google Search,12:23:50\n",
      "chrome-extension://amlfhnjjeeoiehoilfojobcadegeddio/restore_html.html,chrome-extension://amlfhnjjeeoiehoilfojobcadegeddio/restore_html.html,12:22:28\n",
      "chrome-extension://amlfhnjjeeoiehoilfojobcadegeddio/restore_html.html,chrome-extension://amlfhnjjeeoiehoilfojobcadegeddio/restore_html.html,12:20:56\n",
      "chrome-extension://amlfhnjjeeoiehoilfojobcadegeddio/restore_html.html,chrome-extension://amlfhnjjeeoiehoilfojobcadegeddio/restore_html.html,12:20:02\n",
      "chrome-extension://amlfhnjjeeoiehoilfojobcadegeddio/restore_html.html,chrome-extension://amlfhnjjeeoiehoilfojobcadegeddio/restore_html.html,12:19:30\n",
      "chrome-extension://amlfhnjjeeoiehoilfojobcadegeddio/restore_html.html,chrome-extension://amlfhnjjeeoiehoilfojobcadegeddio/restore_html.html,12:19:21\n",
      "chrome-extension://amlfhnjjeeoiehoilfojobcadegeddio/restore_html.html,chrome-extension://amlfhnjjeeoiehoilfojobcadegeddio/restore_html.html,12:18:04\n",
      "chrome-extension://amlfhnjjeeoiehoilfojobcadegeddio/restore_html.html,chrome-extension://amlfhnjjeeoiehoilfojobcadegeddio/restore_html.html,12:16:25\n",
      "chrome-extension://amlfhnjjeeoiehoilfojobcadegeddio/restore_html.html,chrome-extension://amlfhnjjeeoiehoilfojobcadegeddio/restore_html.html,12:16:22\n",
      "chrome-extension://amlfhnjjeeoiehoilfojobcadegeddio/restore_html.html,chrome-extension://amlfhnjjeeoiehoilfojobcadegeddio/restore_html.html,12:08:10\n",
      "chrome-extension://amlfhnjjeeoiehoilfojobcadegeddio/restore_html.html,chrome-extension://amlfhnjjeeoiehoilfojobcadegeddio/restore_html.html,12:07:44\n",
      "chrome-extension://amlfhnjjeeoiehoilfojobcadegeddio/restore_html.html,chrome-extension://amlfhnjjeeoiehoilfojobcadegeddio/restore_html.html,12:03:00\n",
      "chrome-extension://amlfhnjjeeoiehoilfojobcadegeddio/restore_html.html,chrome-extension://amlfhnjjeeoiehoilfojobcadegeddio/restore_html.html,12:02:17\n",
      "chrome-extension://amlfhnjjeeoiehoilfojobcadegeddio/restore_html.html,chrome-extension://amlfhnjjeeoiehoilfojobcadegeddio/restore_html.html,12:00:34\n",
      "chrome-extension://amlfhnjjeeoiehoilfojobcadegeddio/restore_html.html,chrome-extension://amlfhnjjeeoiehoilfojobcadegeddio/restore_html.html,11:58:08\n",
      "chrome-extension://amlfhnjjeeoiehoilfojobcadegeddio/restore_html.html,chrome-extension://amlfhnjjeeoiehoilfojobcadegeddio/restore_html.html,11:53:21\n",
      "chrome-extension://joiedbmboggfhngpipokfailnnhjeejj/history.html,,11:51:44\n",
      "chrome-extension://joiedbmboggfhngpipokfailnnhjeejj/history.html,,11:51:30\n",
      "https://www.w3schools.com/js/js_function_bind.asp,JavaScript Function bind() Method,11:32:18\n",
      "https://www.w3schools.com/js/js_function_call.asp,JavaScript Function call() Method,11:23:36\n",
      "https://www.w3schools.com/js/js_string_search.asp,JavaScript String Search,11:23:24\n",
      "https://www.w3schools.com/js/default.asp,JavaScript Tutorial,11:23:14\n",
      "https://www.w3schools.com/,W3Schools Online Web Tutorials,11:23:07\n",
      "https://www.google.com/search?q=w3schools&oq=w3schools&aqs=chrome..69i57j0i131i433i512l2j0i433i512j0i512l3j5.2114j0j4&sourceid=chrome&ie=UTF-8,w3schools - Google Search,11:23:06\n",
      "https://groklearning.com/launch/#type=course,Grok Academy,11:23:00\n",
      "https://groklearning.com/learn/microbit-crash-course/,Grok Academy,11:22:57\n",
      "https://groklearning.com/login/?next=/learn/microbit-crash-course/,Grok Academy,11:22:57\n",
      "https://groklearning.com/courses/,Grok Academy,11:22:53\n",
      "https://groklearning.com/launch/#type=course,Grok Academy,11:22:53\n",
      "https://groklearning.com/,Grok Academy | Learn to code from your browser,11:22:49\n",
      "https://www.google.com/search?q=grok&oq=grok&aqs=chrome..69i57j46i175i199i433i512j0i433i512l2j0i512j46i175i199i512j0i512l3j0i271.2168j0j15&sourceid=chrome&ie=UTF-8,grok - Google Search,11:22:48\n",
      "https://www.ufc.com/news/ufc-unfiltered-podcast-jim-norton-matt-serra-all-episodes-2023,UFC UNFILTERED | Caolán Loughran, Actor Louis Mandylor, UFC Paris Preview with Guest Co-Host Phoenix Carnevale | UFC,11:22:03\n",
      "https://www.ufc.com/,The Official Home of Ultimate Fighting Championship | UFC.com,11:21:52\n",
      "https://www.google.com/search?q=ufc&oq=ufc&aqs=chrome.0.0i271j46i131i433i512j0i131i433i512l2j0i433i512l3j0i131i433i512j0i433i512l2.2076j1j15&sourceid=chrome&ie=UTF-8,ufc - Google Search,11:21:51\n",
      "https://www.google.com/search?q=ufc&oq=ufc&aqs=chrome.0.0i271j46i131i433i512j0i131i433i512l2j0i433i512l3j0i131i433i512j0i433i512l2.2076j1j15&sourceid=chrome&ie=UTF-8,ufc - Google Search,11:21:46\n",
      "https://www.nytimes.com/international/,The New York Times International - Breaking News, US News, World News, Videos,11:21:28\n",
      "https://www.nytimes.com/wirecutter/,Wirecutter: New Product Reviews, Deals, and Buying Advice,11:21:26\n",
      "https://www.nytimes.com/wirecutter/,Wirecutter: New Product Reviews, Deals, and Buying Advice,11:21:11\n",
      "https://www.nytimes.com/wirecutter/,Wirecutter: New Product Reviews, Deals, and Buying Advice,11:21:10\n",
      "https://www.nytimes.com/international/,The New York Times International - Breaking News, US News, World News, Videos,11:21:00\n",
      "https://www.nytimes.com/2023/09/01/business/college-admissions-essay-ai-chatbots.html,Ban or Embrace? Colleges Wrestle With A.I.-Generated Admissions Essays. - The New York Times,11:20:56\n",
      "https://www.nytimes.com/international/,The New York Times International - Breaking News, US News, World News, Videos,11:20:53\n",
      "https://www.nytimes.com/2023/09/01/business/chatbot-essays-harvard-yale-princeton-dartmouth.html,We Used A.I. to Write Essays for Harvard, Yale and Princeton. Here’s How It Went. - The New York Times,11:20:47\n",
      "https://www.nytimes.com/international/,The New York Times International - Breaking News, US News, World News, Videos,11:20:38\n",
      "https://www.google.com/search?q=nytimes&oq=nytimes&aqs=chrome.0.0i131i433i512l8j0i512l2.10690j0j15&sourceid=chrome&ie=UTF-8,nytimes - Google Search,11:20:37\n",
      "https://www.google.com/search?q=nytimes&oq=nytimes&aqs=chrome.0.0i131i433i512l8j0i512l2.10690j0j15&sourceid=chrome&ie=UTF-8,nytimes - Google Search,11:20:36\n",
      "\n"
     ]
    }
   ],
   "source": [
    "#--------------------------------browsing history by day (list view)-------------------------------------------\n",
    "#add in a column for visit date\n",
    "df_filtered['visit_date'] = df_filtered['visit_time'].dt.date\n",
    "\n",
    "#sort by visit date and visit time\n",
    "df_filtered.sort_values(['visit_date', 'visit_time'], ascending=[False, False], inplace=True)\n",
    "\n",
    "# group by visit date, sort descendingly\n",
    "grouped_by_day = df_filtered.groupby('visit_date', sort=False)\n",
    "\n",
    "# print out the records for each day, time + url+ url.title\n",
    "    print(f\"Date:{name}\")\n",
    "    print(\"=\"*50)  #add separator between days\n",
    "    for index, row in group.iterrows():\n",
    "        print(f\",{row['visit_time'].time()}, {row['url']},{row['title']}\")\n",
    "    print()\n"
   ]
  },
  {
   "cell_type": "code",
   "execution_count": 41,
   "id": "4ecb9fc4",
   "metadata": {},
   "outputs": [
    {
     "name": "stdout",
     "output_type": "stream",
     "text": [
      "Date:2023-09-07\n",
      "==================================================\n"
     ]
    },
    {
     "data": {
      "text/html": [
       "18:16:04 <a href=\"https://en.wikipedia.org/wiki/Ultimate_Fighting_Championship#Anti-doping_policy\">Ultimate Fighting Championship - Wikipedia</a>"
      ],
      "text/plain": [
       "<IPython.core.display.HTML object>"
      ]
     },
     "metadata": {},
     "output_type": "display_data"
    },
    {
     "data": {
      "text/html": [
       "18:15:33 <a href=\"https://en.wikipedia.org/wiki/Ultimate_Fighting_Championship#UFC_events\">Ultimate Fighting Championship - Wikipedia</a>"
      ],
      "text/plain": [
       "<IPython.core.display.HTML object>"
      ]
     },
     "metadata": {},
     "output_type": "display_data"
    },
    {
     "data": {
      "text/html": [
       "18:15:30 <a href=\"https://en.wikipedia.org/wiki/Ultimate_Fighting_Championship#UFC_Hall_of_Fame\">Ultimate Fighting Championship - Wikipedia</a>"
      ],
      "text/plain": [
       "<IPython.core.display.HTML object>"
      ]
     },
     "metadata": {},
     "output_type": "display_data"
    },
    {
     "data": {
      "text/html": [
       "18:13:51 <a href=\"https://en.wikipedia.org/wiki/Ultimate_Fighting_Championship\">Ultimate Fighting Championship - Wikipedia</a>"
      ],
      "text/plain": [
       "<IPython.core.display.HTML object>"
      ]
     },
     "metadata": {},
     "output_type": "display_data"
    },
    {
     "data": {
      "text/html": [
       "18:13:47 <a href=\"https://www.google.com/search?q=ufc&oq=&aqs=chrome.0.69i59i450l8.2502j0j15&sourceid=chrome&ie=UTF-8&bshm=rime/1\">ufc - Google Search</a>"
      ],
      "text/plain": [
       "<IPython.core.display.HTML object>"
      ]
     },
     "metadata": {},
     "output_type": "display_data"
    },
    {
     "data": {
      "text/html": [
       "18:13:45 <a href=\"https://www.google.com/search?q=ufc&oq=&aqs=chrome.0.69i59i450l8.2502j0j15&sourceid=chrome&ie=UTF-8\">ufc - Google Search</a>"
      ],
      "text/plain": [
       "<IPython.core.display.HTML object>"
      ]
     },
     "metadata": {},
     "output_type": "display_data"
    },
    {
     "data": {
      "text/html": [
       "18:13:44 <a href=\"https://www.google.com/search?q=ufc&oq=&aqs=chrome.0.69i59i450l8.2502j0j15&sourceid=chrome&ie=UTF-8\">ufc - Google Search</a>"
      ],
      "text/plain": [
       "<IPython.core.display.HTML object>"
      ]
     },
     "metadata": {},
     "output_type": "display_data"
    },
    {
     "data": {
      "text/html": [
       "13:22:15 <a href=\"https://www.formula1.com/\">F1 - The Official Home of Formula 1® Racing</a>"
      ],
      "text/plain": [
       "<IPython.core.display.HTML object>"
      ]
     },
     "metadata": {},
     "output_type": "display_data"
    },
    {
     "data": {
      "text/html": [
       "13:22:10 <a href=\"https://www.formula1.com/\">F1 - The Official Home of Formula 1® Racing</a>"
      ],
      "text/plain": [
       "<IPython.core.display.HTML object>"
      ]
     },
     "metadata": {},
     "output_type": "display_data"
    },
    {
     "data": {
      "text/html": [
       "13:20:58 <a href=\"https://www.google.com/search?q=f1&oq=f1&aqs=chrome.0.0i271j46i67i433i650j0i67i433i650l2j0i67i131i433i650j0i67i650l2j0i67i433i650j0i67i650l2.6955j0j15&sourceid=chrome&ie=UTF-8&bshm=rime/1#ip=1\">f1 - Google Search</a>"
      ],
      "text/plain": [
       "<IPython.core.display.HTML object>"
      ]
     },
     "metadata": {},
     "output_type": "display_data"
    },
    {
     "data": {
      "text/html": [
       "13:20:52 <a href=\"https://www.google.com/search?q=f1&oq=f1&aqs=chrome.0.0i271j46i67i433i650j0i67i433i650l2j0i67i131i433i650j0i67i650l2j0i67i433i650j0i67i650l2.6955j0j15&sourceid=chrome&ie=UTF-8&bshm=rime/1\">f1 - Google Search</a>"
      ],
      "text/plain": [
       "<IPython.core.display.HTML object>"
      ]
     },
     "metadata": {},
     "output_type": "display_data"
    },
    {
     "data": {
      "text/html": [
       "13:20:51 <a href=\"https://www.google.com/search?q=f1&oq=f1&aqs=chrome.0.0i271j46i67i433i650j0i67i433i650l2j0i67i131i433i650j0i67i650l2j0i67i433i650j0i67i650l2.6955j0j15&sourceid=chrome&ie=UTF-8\">f1 - Google Search</a>"
      ],
      "text/plain": [
       "<IPython.core.display.HTML object>"
      ]
     },
     "metadata": {},
     "output_type": "display_data"
    },
    {
     "data": {
      "text/html": [
       "13:20:50 <a href=\"https://www.google.com/search?q=f1&oq=f1&aqs=chrome.0.0i271j46i67i433i650j0i67i433i650l2j0i67i131i433i650j0i67i650l2j0i67i433i650j0i67i650l2.6955j0j15&sourceid=chrome&ie=UTF-8\">f1 - Google Search</a>"
      ],
      "text/plain": [
       "<IPython.core.display.HTML object>"
      ]
     },
     "metadata": {},
     "output_type": "display_data"
    },
    {
     "data": {
      "text/html": [
       "13:19:45 <a href=\"https://www.ufc.com/\">The Official Home of Ultimate Fighting Championship | UFC.com</a>"
      ],
      "text/plain": [
       "<IPython.core.display.HTML object>"
      ]
     },
     "metadata": {},
     "output_type": "display_data"
    },
    {
     "data": {
      "text/html": [
       "13:19:42 <a href=\"https://www.google.com/search?q=ufc&oq=ufc&aqs=chrome.0.0i271j46i131i433i512j0i131i433i512j69i64j0i131i433i512j69i61j69i60l2.665j1j7&sourceid=chrome&ie=UTF-8&bshm=rime/1\">ufc - Google Search</a>"
      ],
      "text/plain": [
       "<IPython.core.display.HTML object>"
      ]
     },
     "metadata": {},
     "output_type": "display_data"
    },
    {
     "data": {
      "text/html": [
       "13:19:41 <a href=\"https://www.google.com/search?q=ufc&oq=ufc&aqs=chrome.0.0i271j46i131i433i512j0i131i433i512j69i64j0i131i433i512j69i61j69i60l2.665j1j7&sourceid=chrome&ie=UTF-8\">ufc - Google Search</a>"
      ],
      "text/plain": [
       "<IPython.core.display.HTML object>"
      ]
     },
     "metadata": {},
     "output_type": "display_data"
    },
    {
     "data": {
      "text/html": [
       "13:19:40 <a href=\"https://www.google.com/search?q=ufc&oq=ufc&aqs=chrome.0.0i271j46i131i433i512j0i131i433i512j69i64j0i131i433i512j69i61j69i60l2.665j1j7&sourceid=chrome&ie=UTF-8\">ufc - Google Search</a>"
      ],
      "text/plain": [
       "<IPython.core.display.HTML object>"
      ]
     },
     "metadata": {},
     "output_type": "display_data"
    },
    {
     "data": {
      "text/html": [
       "12:51:18 <a href=\"https://blog.hubspot.com/website/center-div-css\">11 Ways to Center Div or Text in Div in CSS</a>"
      ],
      "text/plain": [
       "<IPython.core.display.HTML object>"
      ]
     },
     "metadata": {},
     "output_type": "display_data"
    },
    {
     "data": {
      "text/html": [
       "12:51:00 <a href=\"https://blog.hubspot.com/website/center-div-css\">11 Ways to Center Div or Text in Div in CSS</a>"
      ],
      "text/plain": [
       "<IPython.core.display.HTML object>"
      ]
     },
     "metadata": {},
     "output_type": "display_data"
    },
    {
     "data": {
      "text/html": [
       "12:50:59 <a href=\"https://www.google.com/search?q=center+a+div&oq=&aqs=chrome.6.69i59i450l8.7597j0j15&sourceid=chrome&ie=UTF-8&bshm=rime/1\">center a div - Google Search</a>"
      ],
      "text/plain": [
       "<IPython.core.display.HTML object>"
      ]
     },
     "metadata": {},
     "output_type": "display_data"
    },
    {
     "data": {
      "text/html": [
       "12:50:57 <a href=\"https://www.google.com/search?q=center+a+div&oq=&aqs=chrome.6.69i59i450l8.7597j0j15&sourceid=chrome&ie=UTF-8\">center a div - Google Search</a>"
      ],
      "text/plain": [
       "<IPython.core.display.HTML object>"
      ]
     },
     "metadata": {},
     "output_type": "display_data"
    },
    {
     "data": {
      "text/html": [
       "11:43:10 <a href=\"https://chrome.google.com/webstore/category/extensions?hl=en\">Chrome Web Store - Extensions</a>"
      ],
      "text/plain": [
       "<IPython.core.display.HTML object>"
      ]
     },
     "metadata": {},
     "output_type": "display_data"
    },
    {
     "data": {
      "text/html": [
       "11:43:09 <a href=\"https://chrome.google.com/webstore?hl=en\">Chrome Web Store - Extensions</a>"
      ],
      "text/plain": [
       "<IPython.core.display.HTML object>"
      ]
     },
     "metadata": {},
     "output_type": "display_data"
    },
    {
     "data": {
      "text/html": [
       "11:37:22 <a href=\"chrome-extension://pnmchffiealhkdloeffcdnbgdnedheme/search.html\">History Trends Unlimited: Search</a>"
      ],
      "text/plain": [
       "<IPython.core.display.HTML object>"
      ]
     },
     "metadata": {},
     "output_type": "display_data"
    },
    {
     "data": {
      "text/html": [
       "11:37:21 <a href=\"chrome-extension://pnmchffiealhkdloeffcdnbgdnedheme/trends.html\">History Trends Unlimited</a>"
      ],
      "text/plain": [
       "<IPython.core.display.HTML object>"
      ]
     },
     "metadata": {},
     "output_type": "display_data"
    },
    {
     "data": {
      "text/html": [
       "11:36:36 <a href=\"https://www.google.com/search?q=mma&oq=mma&aqs=chrome..69i57j0i67i650l2j0i512l3j46i175i199i512j0i512j0i457i512j0i402i512.6807j0j15&sourceid=chrome&ie=UTF-8&bshm=rime/1\">mma - Google Search</a>"
      ],
      "text/plain": [
       "<IPython.core.display.HTML object>"
      ]
     },
     "metadata": {},
     "output_type": "display_data"
    },
    {
     "data": {
      "text/html": [
       "11:36:36 <a href=\"https://www.google.com/search?q=mma&oq=mma&aqs=chrome..69i57j0i67i650l2j0i512l3j46i175i199i512j0i512j0i457i512j0i402i512.6807j0j15&sourceid=chrome&ie=UTF-8&bshm=rime/1,rime/1\">mma - Google Search</a>"
      ],
      "text/plain": [
       "<IPython.core.display.HTML object>"
      ]
     },
     "metadata": {},
     "output_type": "display_data"
    },
    {
     "data": {
      "text/html": [
       "11:36:33 <a href=\"https://www.google.com/search?q=mma&oq=mma&aqs=chrome..69i57j0i67i650l2j0i512l3j46i175i199i512j0i512j0i457i512j0i402i512.6807j0j15&sourceid=chrome&ie=UTF-8\">mma - Google Search</a>"
      ],
      "text/plain": [
       "<IPython.core.display.HTML object>"
      ]
     },
     "metadata": {},
     "output_type": "display_data"
    },
    {
     "data": {
      "text/html": [
       "11:35:28 <a href=\"chrome-extension://pnmchffiealhkdloeffcdnbgdnedheme/search.html\">History Trends Unlimited: Search</a>"
      ],
      "text/plain": [
       "<IPython.core.display.HTML object>"
      ]
     },
     "metadata": {},
     "output_type": "display_data"
    },
    {
     "data": {
      "text/html": [
       "11:35:14 <a href=\"chrome-extension://pnmchffiealhkdloeffcdnbgdnedheme/search.html\">History Trends Unlimited: Search</a>"
      ],
      "text/plain": [
       "<IPython.core.display.HTML object>"
      ]
     },
     "metadata": {},
     "output_type": "display_data"
    },
    {
     "data": {
      "text/html": [
       "11:35:12 <a href=\"chrome-extension://pnmchffiealhkdloeffcdnbgdnedheme/trends.html\">History Trends Unlimited</a>"
      ],
      "text/plain": [
       "<IPython.core.display.HTML object>"
      ]
     },
     "metadata": {},
     "output_type": "display_data"
    },
    {
     "data": {
      "text/html": [
       "11:33:41 <a href=\"https://www.mmafighting.com/\">UFC, Mixed Martial Arts (MMA) News, Results: MMA Fighting</a>"
      ],
      "text/plain": [
       "<IPython.core.display.HTML object>"
      ]
     },
     "metadata": {},
     "output_type": "display_data"
    },
    {
     "data": {
      "text/html": [
       "11:33:40 <a href=\"https://www.mmafighting.com/\">UFC, Mixed Martial Arts (MMA) News, Results: MMA Fighting</a>"
      ],
      "text/plain": [
       "<IPython.core.display.HTML object>"
      ]
     },
     "metadata": {},
     "output_type": "display_data"
    },
    {
     "data": {
      "text/html": [
       "11:33:39 <a href=\"https://www.google.com/search?q=mma&oq=mma&aqs=chrome..69i57j0i67i650l2j0i512l3j46i175i199i512j0i512j0i457i512j0i402i512.6807j0j15&sourceid=chrome&ie=UTF-8&bshm=rime/1\">mma - Google Search</a>"
      ],
      "text/plain": [
       "<IPython.core.display.HTML object>"
      ]
     },
     "metadata": {},
     "output_type": "display_data"
    },
    {
     "data": {
      "text/html": [
       "11:33:36 <a href=\"https://www.google.com/search?q=mma&oq=mma&aqs=chrome..69i57j0i67i650l2j0i512l3j46i175i199i512j0i512j0i457i512j0i402i512.6807j0j15&sourceid=chrome&ie=UTF-8\">mma - Google Search</a>"
      ],
      "text/plain": [
       "<IPython.core.display.HTML object>"
      ]
     },
     "metadata": {},
     "output_type": "display_data"
    },
    {
     "data": {
      "text/html": [
       "11:33:35 <a href=\"https://www.google.com/search?q=mma&oq=mma&aqs=chrome..69i57j0i67i650l2j0i512l3j46i175i199i512j0i512j0i457i512j0i402i512.6807j0j15&sourceid=chrome&ie=UTF-8\">mma - Google Search</a>"
      ],
      "text/plain": [
       "<IPython.core.display.HTML object>"
      ]
     },
     "metadata": {},
     "output_type": "display_data"
    },
    {
     "data": {
      "text/html": [
       "11:29:33 <a href=\"https://github.com/richgong/history-by-date\">GitHub - richgong/history-by-date: A Chrome extension that lets you browse your history by date, instead of infinite scroll.</a>"
      ],
      "text/plain": [
       "<IPython.core.display.HTML object>"
      ]
     },
     "metadata": {},
     "output_type": "display_data"
    },
    {
     "data": {
      "text/html": [
       "11:29:32 <a href=\"https://github.com/richgong/history-by-date\">GitHub - richgong/history-by-date: A Chrome extension that lets you browse your history by date, instead of infinite scroll.</a>"
      ],
      "text/plain": [
       "<IPython.core.display.HTML object>"
      ]
     },
     "metadata": {},
     "output_type": "display_data"
    },
    {
     "data": {
      "text/html": [
       "11:29:30 <a href=\"https://www.google.com/search?q=history+trends+unlimited+github&oq=history+trends+unlimited+github&aqs=chrome..69i57j0i546l2.10141j0j15&sourceid=chrome&ie=UTF-8&bshm=rime/1\">history trends unlimited github - Google Search</a>"
      ],
      "text/plain": [
       "<IPython.core.display.HTML object>"
      ]
     },
     "metadata": {},
     "output_type": "display_data"
    },
    {
     "data": {
      "text/html": [
       "11:29:29 <a href=\"https://www.google.com/search?q=history+trends+unlimited+github&oq=history+trends+unlimited+github&aqs=chrome..69i57j0i546l2.10141j0j15&sourceid=chrome&ie=UTF-8\">history trends unlimited github - Google Search</a>"
      ],
      "text/plain": [
       "<IPython.core.display.HTML object>"
      ]
     },
     "metadata": {},
     "output_type": "display_data"
    },
    {
     "data": {
      "text/html": [
       "11:29:28 <a href=\"https://www.google.com/search?q=history+trends+unlimited+github&oq=history+trends+unlimited+github&aqs=chrome..69i57j0i546l2.10141j0j15&sourceid=chrome&ie=UTF-8\">history trends unlimited github - Google Search</a>"
      ],
      "text/plain": [
       "<IPython.core.display.HTML object>"
      ]
     },
     "metadata": {},
     "output_type": "display_data"
    },
    {
     "data": {
      "text/html": [
       "11:28:59 <a href=\"chrome-extension://pnmchffiealhkdloeffcdnbgdnedheme/trends.html\">History Trends Unlimited</a>"
      ],
      "text/plain": [
       "<IPython.core.display.HTML object>"
      ]
     },
     "metadata": {},
     "output_type": "display_data"
    },
    {
     "data": {
      "text/html": [
       "11:28:58 <a href=\"chrome-extension://pnmchffiealhkdloeffcdnbgdnedheme/options.html\">History Trends Unlimited: Options</a>"
      ],
      "text/plain": [
       "<IPython.core.display.HTML object>"
      ]
     },
     "metadata": {},
     "output_type": "display_data"
    },
    {
     "data": {
      "text/html": [
       "11:28:58 <a href=\"chrome-extension://pnmchffiealhkdloeffcdnbgdnedheme/changelog.html\">History Trends Unlimited: Changelog</a>"
      ],
      "text/plain": [
       "<IPython.core.display.HTML object>"
      ]
     },
     "metadata": {},
     "output_type": "display_data"
    },
    {
     "data": {
      "text/html": [
       "11:25:29 <a href=\"chrome-extension://pnmchffiealhkdloeffcdnbgdnedheme/search.html\">History Trends Unlimited: Search</a>"
      ],
      "text/plain": [
       "<IPython.core.display.HTML object>"
      ]
     },
     "metadata": {},
     "output_type": "display_data"
    },
    {
     "data": {
      "text/html": [
       "11:25:27 <a href=\"chrome-extension://pnmchffiealhkdloeffcdnbgdnedheme/trends.html\">History Trends Unlimited</a>"
      ],
      "text/plain": [
       "<IPython.core.display.HTML object>"
      ]
     },
     "metadata": {},
     "output_type": "display_data"
    },
    {
     "data": {
      "text/html": [
       "10:51:33 <a href=\"chrome-extension://pnmchffiealhkdloeffcdnbgdnedheme/search.html\">History Trends Unlimited: Search</a>"
      ],
      "text/plain": [
       "<IPython.core.display.HTML object>"
      ]
     },
     "metadata": {},
     "output_type": "display_data"
    },
    {
     "data": {
      "text/html": [
       "10:51:22 <a href=\"chrome-extension://pnmchffiealhkdloeffcdnbgdnedheme/trends.html\">History Trends Unlimited</a>"
      ],
      "text/plain": [
       "<IPython.core.display.HTML object>"
      ]
     },
     "metadata": {},
     "output_type": "display_data"
    },
    {
     "data": {
      "text/html": [
       "10:51:08 <a href=\"https://chrome.google.com/webstore/search/history%20trends\">Chrome Web Store - history trends</a>"
      ],
      "text/plain": [
       "<IPython.core.display.HTML object>"
      ]
     },
     "metadata": {},
     "output_type": "display_data"
    },
    {
     "data": {
      "text/html": [
       "10:51:04 <a href=\"https://chrome.google.com/webstore/detail/history-trends-unlimited/pnmchffiealhkdloeffcdnbgdnedheme\">History Trends Unlimited - Chrome Web Store</a>"
      ],
      "text/plain": [
       "<IPython.core.display.HTML object>"
      ]
     },
     "metadata": {},
     "output_type": "display_data"
    },
    {
     "data": {
      "text/html": [
       "10:50:53 <a href=\"https://chrome.google.com/webstore/search/history%20trends\">Chrome Web Store - history trends</a>"
      ],
      "text/plain": [
       "<IPython.core.display.HTML object>"
      ]
     },
     "metadata": {},
     "output_type": "display_data"
    },
    {
     "data": {
      "text/html": [
       "10:50:45 <a href=\"https://chrome.google.com/webstore/category/extensions\">Chrome Web Store - Extensions</a>"
      ],
      "text/plain": [
       "<IPython.core.display.HTML object>"
      ]
     },
     "metadata": {},
     "output_type": "display_data"
    },
    {
     "data": {
      "text/html": [
       "10:50:44 <a href=\"https://chrome.google.com/webstore\">Chrome Web Store - Extensions</a>"
      ],
      "text/plain": [
       "<IPython.core.display.HTML object>"
      ]
     },
     "metadata": {},
     "output_type": "display_data"
    },
    {
     "data": {
      "text/html": [
       "10:50:43 <a href=\"https://www.google.com/search?q=chrome+web+store&oq=chrome+web+store&aqs=chrome.0.0i67i433i650j0i67i650j0i512l3j0i67i650j69i60l2.4512j0j7&sourceid=chrome&ie=UTF-8\">chrome web store - Google Search</a>"
      ],
      "text/plain": [
       "<IPython.core.display.HTML object>"
      ]
     },
     "metadata": {},
     "output_type": "display_data"
    },
    {
     "name": "stdout",
     "output_type": "stream",
     "text": [
      "\n",
      "Date:2023-09-06\n",
      "==================================================\n"
     ]
    },
    {
     "data": {
      "text/html": [
       "21:40:29 <a href=\"https://chrome.google.com/webstore/detail/better-history/egehpkpgpgooebopjihjmnpejnjafefi/related\">Better History - Chrome Web Store</a>"
      ],
      "text/plain": [
       "<IPython.core.display.HTML object>"
      ]
     },
     "metadata": {},
     "output_type": "display_data"
    },
    {
     "data": {
      "text/html": [
       "21:40:07 <a href=\"https://chrome.google.com/webstore/detail/better-history/egehpkpgpgooebopjihjmnpejnjafefi\">Better History - Chrome Web Store</a>"
      ],
      "text/plain": [
       "<IPython.core.display.HTML object>"
      ]
     },
     "metadata": {},
     "output_type": "display_data"
    },
    {
     "data": {
      "text/html": [
       "21:40:02 <a href=\"https://www.google.com/search?q=browse+history+%2B+extension&sca_esv=563044254&ei=CWX4ZJb_LZyo4-EPpOeW4AQ&ved=0ahUKEwjWp-Cd85WBAxUc1DgGHaSzBUwQ4dUDCBA&uact=5&oq=browse+history+%2B+extension&gs_lp=Egxnd3Mtd2l6LXNlcnAiGmJyb3dzZSBoaXN0b3J5ICsgZXh0ZW5zaW9uMgYQABgWGB4yBhAAGBYYHjIGEAAYFhgeMgYQABgWGB4yCBAAGBYYHhgPMggQABgWGB4YDzIIEAAYCBgeGA0yCBAAGIoFGIYDMggQABiKBRiGAzIIEAAYigUYhgNIsRNQnwFYoBFwAngBkAEAmAHpAaAB0g-qAQUwLjcuNLgBA8gBAPgBAcICChAAGEcY1gQYsAPCAggQABgWGB4YCuIDBBgAIEGIBgGQBgg&sclient=gws-wiz-serp&bshm=rime/1\">browse history + extension - Google Search</a>"
      ],
      "text/plain": [
       "<IPython.core.display.HTML object>"
      ]
     },
     "metadata": {},
     "output_type": "display_data"
    },
    {
     "data": {
      "text/html": [
       "21:40:01 <a href=\"https://www.google.com/search?q=browse+history+%2B+extension&sca_esv=563044254&ei=CWX4ZJb_LZyo4-EPpOeW4AQ&ved=0ahUKEwjWp-Cd85WBAxUc1DgGHaSzBUwQ4dUDCBA&uact=5&oq=browse+history+%2B+extension&gs_lp=Egxnd3Mtd2l6LXNlcnAiGmJyb3dzZSBoaXN0b3J5ICsgZXh0ZW5zaW9uMgYQABgWGB4yBhAAGBYYHjIGEAAYFhgeMgYQABgWGB4yCBAAGBYYHhgPMggQABgWGB4YDzIIEAAYCBgeGA0yCBAAGIoFGIYDMggQABiKBRiGAzIIEAAYigUYhgNIsRNQnwFYoBFwAngBkAEAmAHpAaAB0g-qAQUwLjcuNLgBA8gBAPgBAcICChAAGEcY1gQYsAPCAggQABgWGB4YCuIDBBgAIEGIBgGQBgg&sclient=gws-wiz-serp\">browse history + extension - Google Search</a>"
      ],
      "text/plain": [
       "<IPython.core.display.HTML object>"
      ]
     },
     "metadata": {},
     "output_type": "display_data"
    },
    {
     "data": {
      "text/html": [
       "21:40:00 <a href=\"https://www.google.com/search?q=browse+history+%2B&oq=browse+history+%2B&aqs=chrome..69i57j0i22i30j0i10i22i30j0i22i30l7.6586j0j7&sourceid=chrome&ie=UTF-8\">browse history + - Google Search</a>"
      ],
      "text/plain": [
       "<IPython.core.display.HTML object>"
      ]
     },
     "metadata": {},
     "output_type": "display_data"
    },
    {
     "data": {
      "text/html": [
       "21:40:00 <a href=\"https://www.google.com/search?q=browse+history+%2B+extension&sca_esv=563044254&ei=CWX4ZJb_LZyo4-EPpOeW4AQ&ved=0ahUKEwjWp-Cd85WBAxUc1DgGHaSzBUwQ4dUDCBA&uact=5&oq=browse+history+%2B+extension&gs_lp=Egxnd3Mtd2l6LXNlcnAiGmJyb3dzZSBoaXN0b3J5ICsgZXh0ZW5zaW9uMgYQABgWGB4yBhAAGBYYHjIGEAAYFhgeMgYQABgWGB4yCBAAGBYYHhgPMggQABgWGB4YDzIIEAAYCBgeGA0yCBAAGIoFGIYDMggQABiKBRiGAzIIEAAYigUYhgNIsRNQnwFYoBFwAngBkAEAmAHpAaAB0g-qAQUwLjcuNLgBA8gBAPgBAcICChAAGEcY1gQYsAPCAggQABgWGB4YCuIDBBgAIEGIBgGQBgg&sclient=gws-wiz-serp\">browse history + extension - Google Search</a>"
      ],
      "text/plain": [
       "<IPython.core.display.HTML object>"
      ]
     },
     "metadata": {},
     "output_type": "display_data"
    },
    {
     "data": {
      "text/html": [
       "21:39:55 <a href=\"https://www.google.com/search?q=browse+history+%2B&oq=browse+history+%2B&aqs=chrome..69i57j0i22i30j0i10i22i30j0i22i30l7.6586j0j7&sourceid=chrome&ie=UTF-8&bshm=rime/1\">browse history + - Google Search</a>"
      ],
      "text/plain": [
       "<IPython.core.display.HTML object>"
      ]
     },
     "metadata": {},
     "output_type": "display_data"
    },
    {
     "data": {
      "text/html": [
       "21:39:54 <a href=\"https://www.google.com/search?q=browse+history+%2B&oq=browse+history+%2B&aqs=chrome..69i57j0i22i30j0i10i22i30j0i22i30l7.6586j0j7&sourceid=chrome&ie=UTF-8\">browse history + - Google Search</a>"
      ],
      "text/plain": [
       "<IPython.core.display.HTML object>"
      ]
     },
     "metadata": {},
     "output_type": "display_data"
    },
    {
     "data": {
      "text/html": [
       "21:39:53 <a href=\"https://www.google.com/search?q=browse+history+%2B&oq=browse+history+%2B&aqs=chrome..69i57j0i22i30j0i10i22i30j0i22i30l7.6586j0j7&sourceid=chrome&ie=UTF-8\">browse history + - Google Search</a>"
      ],
      "text/plain": [
       "<IPython.core.display.HTML object>"
      ]
     },
     "metadata": {},
     "output_type": "display_data"
    },
    {
     "data": {
      "text/html": [
       "21:39:02 <a href=\"chrome-extension://amlfhnjjeeoiehoilfojobcadegeddio/history.html\">Chrome History Grouping</a>"
      ],
      "text/plain": [
       "<IPython.core.display.HTML object>"
      ]
     },
     "metadata": {},
     "output_type": "display_data"
    },
    {
     "data": {
      "text/html": [
       "21:20:31 <a href=\"https://www.google.com/search?q=ufc&sca_esv=563044254&ei=eWD4ZPSCCf2K4-EPxMy46AQ&ved=0ahUKEwi0o8Lw7pWBAxV9xTgGHUQmDk0Q4dUDCBA&oq=ufc&gs_lp=Egxnd3Mtd2l6LXNlcnAiA3VmY0gAUABYAHAAeAGQAQCYAQCgAQCqAQC4AQzIAQDiAwQYACBB&sclient=gws-wiz-serp&bshm=rime/1\">ufc - Google Search</a>"
      ],
      "text/plain": [
       "<IPython.core.display.HTML object>"
      ]
     },
     "metadata": {},
     "output_type": "display_data"
    },
    {
     "data": {
      "text/html": [
       "21:20:31 <a href=\"https://www.google.com/search?q=ufc&sca_esv=563044254&ei=eWD4ZPSCCf2K4-EPxMy46AQ&ved=0ahUKEwi0o8Lw7pWBAxV9xTgGHUQmDk0Q4dUDCBA&oq=ufc&gs_lp=Egxnd3Mtd2l6LXNlcnAiA3VmY0gAUABYAHAAeAGQAQCYAQCgAQCqAQC4AQzIAQDiAwQYACBB&sclient=gws-wiz-serp\">ufc - Google Search</a>"
      ],
      "text/plain": [
       "<IPython.core.display.HTML object>"
      ]
     },
     "metadata": {},
     "output_type": "display_data"
    },
    {
     "data": {
      "text/html": [
       "21:20:29 <a href=\"https://www.google.com/search?q=ufc&sca_esv=563044254&ei=eWD4ZPSCCf2K4-EPxMy46AQ&ved=0ahUKEwi0o8Lw7pWBAxV9xTgGHUQmDk0Q4dUDCBA&oq=ufc&gs_lp=Egxnd3Mtd2l6LXNlcnAiA3VmY0gAUABYAHAAeAGQAQCYAQCgAQCqAQC4AQzIAQDiAwQYACBB&sclient=gws-wiz-serp\">ufc - Google Search</a>"
      ],
      "text/plain": [
       "<IPython.core.display.HTML object>"
      ]
     },
     "metadata": {},
     "output_type": "display_data"
    },
    {
     "data": {
      "text/html": [
       "21:20:28 <a href=\"https://www.google.com/search?q=ufc&sca_esv=563044254&ei=eWD4ZPSCCf2K4-EPxMy46AQ&ved=0ahUKEwi0o8Lw7pWBAxV9xTgGHUQmDk0Q4dUDCBA&oq=ufc&gs_lp=Egxnd3Mtd2l6LXNlcnAiA3VmY0gAUABYAHAAeAGQAQCYAQCgAQCqAQC4AQzIAQDiAwQYACBB&sclient=gws-wiz-serp\">ufc - Google Search</a>"
      ],
      "text/plain": [
       "<IPython.core.display.HTML object>"
      ]
     },
     "metadata": {},
     "output_type": "display_data"
    },
    {
     "data": {
      "text/html": [
       "21:20:26 <a href=\"https://www.google.com/search?q=ufc&oq=&aqs=chrome.0.69i59i450l5j46i3i143i362j0i3i66i143i362l2.630j0j15&sourceid=chrome&ie=UTF-8\">ufc - Google Search</a>"
      ],
      "text/plain": [
       "<IPython.core.display.HTML object>"
      ]
     },
     "metadata": {},
     "output_type": "display_data"
    },
    {
     "data": {
      "text/html": [
       "21:20:25 <a href=\"https://www.google.com/search?q=ufc&oq=&aqs=chrome.0.69i59i450l5j46i3i143i362j0i3i66i143i362l2.630j0j15&sourceid=chrome&ie=UTF-8\">ufc - Google Search</a>"
      ],
      "text/plain": [
       "<IPython.core.display.HTML object>"
      ]
     },
     "metadata": {},
     "output_type": "display_data"
    },
    {
     "data": {
      "text/html": [
       "20:48:58 <a href=\"https://en.wikipedia.org/wiki/Ultimate_Fighting_Championship\">Ultimate Fighting Championship - Wikipedia</a>"
      ],
      "text/plain": [
       "<IPython.core.display.HTML object>"
      ]
     },
     "metadata": {},
     "output_type": "display_data"
    },
    {
     "data": {
      "text/html": [
       "20:48:52 <a href=\"https://www.google.com/search?q=ufc&oq=&aqs=chrome.0.69i59i450l5j46i3i143i362l2j0i3i66i143i362.1317j0j15&sourceid=chrome&ie=UTF-8\">ufc - Google Search</a>"
      ],
      "text/plain": [
       "<IPython.core.display.HTML object>"
      ]
     },
     "metadata": {},
     "output_type": "display_data"
    },
    {
     "data": {
      "text/html": [
       "20:48:52 <a href=\"https://www.google.com/search?q=ufc&oq=&aqs=chrome.0.69i59i450l5j46i3i143i362l2j0i3i66i143i362.1317j0j15&sourceid=chrome&ie=UTF-8&bshm=rime/1\">ufc - Google Search</a>"
      ],
      "text/plain": [
       "<IPython.core.display.HTML object>"
      ]
     },
     "metadata": {},
     "output_type": "display_data"
    },
    {
     "data": {
      "text/html": [
       "20:48:50 <a href=\"https://welcome.ufcfightpass.com/region/australia?gad=1&gclid=EAIaIQobChMIqePE5-eVgQMVMRmDAx3_ZQw-EAAYASAAEgIK5fD_BwE\">UFC Fight Pass</a>"
      ],
      "text/plain": [
       "<IPython.core.display.HTML object>"
      ]
     },
     "metadata": {},
     "output_type": "display_data"
    },
    {
     "data": {
      "text/html": [
       "20:48:49 <a href=\"https://www.googleadservices.com/pagead/aclk?sa=L&ai=DChcSEwip48Tn55WBAxUxGYMDHf9lDD4YABAAGgJzZg&gclid=EAIaIQobChMIqePE5-eVgQMVMRmDAx3_ZQw-EAAYASAAEgIK5fD_BwE&ohost=www.google.com&cid=CAASJuRopIcNONyp1achTZzR-3NTtr1U9ktyYt71DyLnTNibzd3rxwNc&sig=AOD64_3z93sGeCmwKVmZRXwJZAapBeBUFg&q&adurl&ved=2ahUKEwj2vb7n55WBAxUB1jgGHeyTDEwQ0Qx6BAgQEAE&nis=7\">UFC Fight Pass</a>"
      ],
      "text/plain": [
       "<IPython.core.display.HTML object>"
      ]
     },
     "metadata": {},
     "output_type": "display_data"
    },
    {
     "data": {
      "text/html": [
       "20:48:49 <a href=\"https://welcome.ufcfightpass.com/?gad=1&gclid=EAIaIQobChMIqePE5-eVgQMVMRmDAx3_ZQw-EAAYASAAEgIK5fD_BwE\">UFC Fight Pass</a>"
      ],
      "text/plain": [
       "<IPython.core.display.HTML object>"
      ]
     },
     "metadata": {},
     "output_type": "display_data"
    },
    {
     "data": {
      "text/html": [
       "20:48:48 <a href=\"https://www.google.com/search?q=ufc&oq=&aqs=chrome.0.69i59i450l5j46i3i143i362l2j0i3i66i143i362.1317j0j15&sourceid=chrome&ie=UTF-8\">ufc - Google Search</a>"
      ],
      "text/plain": [
       "<IPython.core.display.HTML object>"
      ]
     },
     "metadata": {},
     "output_type": "display_data"
    },
    {
     "data": {
      "text/html": [
       "20:48:47 <a href=\"https://www.google.com/search?q=ufc&oq=&aqs=chrome.0.69i59i450l5j46i3i143i362l2j0i3i66i143i362.1317j0j15&sourceid=chrome&ie=UTF-8\">ufc - Google Search</a>"
      ],
      "text/plain": [
       "<IPython.core.display.HTML object>"
      ]
     },
     "metadata": {},
     "output_type": "display_data"
    },
    {
     "name": "stdout",
     "output_type": "stream",
     "text": [
      "\n",
      "Date:2023-09-03\n",
      "==================================================\n"
     ]
    },
    {
     "data": {
      "text/html": [
       "10:45:46 <a href=\"chrome-extension://amlfhnjjeeoiehoilfojobcadegeddio/history.html\">Chrome History Grouping</a>"
      ],
      "text/plain": [
       "<IPython.core.display.HTML object>"
      ]
     },
     "metadata": {},
     "output_type": "display_data"
    },
    {
     "data": {
      "text/html": [
       "10:45:21 <a href=\"https://www.ufc.com/\">The Official Home of Ultimate Fighting Championship | UFC.com</a>"
      ],
      "text/plain": [
       "<IPython.core.display.HTML object>"
      ]
     },
     "metadata": {},
     "output_type": "display_data"
    },
    {
     "data": {
      "text/html": [
       "10:45:00 <a href=\"https://www.google.com/search?q=ufc&oq=&aqs=chrome.3.69i59i450l5j0i3i66i143i362l3.1479j0j15&sourceid=chrome&ie=UTF-8&bshm=rime/1\">ufc - Google Search</a>"
      ],
      "text/plain": [
       "<IPython.core.display.HTML object>"
      ]
     },
     "metadata": {},
     "output_type": "display_data"
    },
    {
     "data": {
      "text/html": [
       "10:44:59 <a href=\"https://www.google.com/search?q=ufc&oq=&aqs=chrome.3.69i59i450l5j0i3i66i143i362l3.1479j0j15&sourceid=chrome&ie=UTF-8\">ufc - Google Search</a>"
      ],
      "text/plain": [
       "<IPython.core.display.HTML object>"
      ]
     },
     "metadata": {},
     "output_type": "display_data"
    },
    {
     "data": {
      "text/html": [
       "10:44:58 <a href=\"https://www.google.com/search?q=ufc&oq=&aqs=chrome.3.69i59i450l5j0i3i66i143i362l3.1479j0j15&sourceid=chrome&ie=UTF-8\">ufc - Google Search</a>"
      ],
      "text/plain": [
       "<IPython.core.display.HTML object>"
      ]
     },
     "metadata": {},
     "output_type": "display_data"
    },
    {
     "name": "stdout",
     "output_type": "stream",
     "text": [
      "\n",
      "Date:2023-09-02\n",
      "==================================================\n"
     ]
    },
    {
     "data": {
      "text/html": [
       "12:24:00 <a href=\"https://www.freecodecamp.org/news/how-to-center-anything-with-css-align-a-div-text-and-more/\">How to Center Anything with CSS - Align a Div, Text, and More</a>"
      ],
      "text/plain": [
       "<IPython.core.display.HTML object>"
      ]
     },
     "metadata": {},
     "output_type": "display_data"
    },
    {
     "data": {
      "text/html": [
       "12:23:54 <a href=\"https://www.google.com/search?q=center+a+div&oq=center+a+div&aqs=chrome.0.0i512l10.3560j0j7&sourceid=chrome&ie=UTF-8&bshm=rime/1\">center a div - Google Search</a>"
      ],
      "text/plain": [
       "<IPython.core.display.HTML object>"
      ]
     },
     "metadata": {},
     "output_type": "display_data"
    },
    {
     "data": {
      "text/html": [
       "12:23:51 <a href=\"https://www.google.com/search?q=center+a+div&oq=center+a+div&aqs=chrome.0.0i512l10.3560j0j7&sourceid=chrome&ie=UTF-8\">center a div - Google Search</a>"
      ],
      "text/plain": [
       "<IPython.core.display.HTML object>"
      ]
     },
     "metadata": {},
     "output_type": "display_data"
    },
    {
     "data": {
      "text/html": [
       "12:23:50 <a href=\"https://www.google.com/search?q=center+a+div&oq=center+a+div&aqs=chrome.0.0i512l10.3560j0j7&sourceid=chrome&ie=UTF-8\">center a div - Google Search</a>"
      ],
      "text/plain": [
       "<IPython.core.display.HTML object>"
      ]
     },
     "metadata": {},
     "output_type": "display_data"
    },
    {
     "data": {
      "text/html": [
       "12:22:28 <a href=\"chrome-extension://amlfhnjjeeoiehoilfojobcadegeddio/restore_html.html\">chrome-extension://amlfhnjjeeoiehoilfojobcadegeddio/restore_html.html</a>"
      ],
      "text/plain": [
       "<IPython.core.display.HTML object>"
      ]
     },
     "metadata": {},
     "output_type": "display_data"
    },
    {
     "data": {
      "text/html": [
       "12:20:56 <a href=\"chrome-extension://amlfhnjjeeoiehoilfojobcadegeddio/restore_html.html\">chrome-extension://amlfhnjjeeoiehoilfojobcadegeddio/restore_html.html</a>"
      ],
      "text/plain": [
       "<IPython.core.display.HTML object>"
      ]
     },
     "metadata": {},
     "output_type": "display_data"
    },
    {
     "data": {
      "text/html": [
       "12:20:02 <a href=\"chrome-extension://amlfhnjjeeoiehoilfojobcadegeddio/restore_html.html\">chrome-extension://amlfhnjjeeoiehoilfojobcadegeddio/restore_html.html</a>"
      ],
      "text/plain": [
       "<IPython.core.display.HTML object>"
      ]
     },
     "metadata": {},
     "output_type": "display_data"
    },
    {
     "data": {
      "text/html": [
       "12:19:30 <a href=\"chrome-extension://amlfhnjjeeoiehoilfojobcadegeddio/restore_html.html\">chrome-extension://amlfhnjjeeoiehoilfojobcadegeddio/restore_html.html</a>"
      ],
      "text/plain": [
       "<IPython.core.display.HTML object>"
      ]
     },
     "metadata": {},
     "output_type": "display_data"
    },
    {
     "data": {
      "text/html": [
       "12:19:21 <a href=\"chrome-extension://amlfhnjjeeoiehoilfojobcadegeddio/restore_html.html\">chrome-extension://amlfhnjjeeoiehoilfojobcadegeddio/restore_html.html</a>"
      ],
      "text/plain": [
       "<IPython.core.display.HTML object>"
      ]
     },
     "metadata": {},
     "output_type": "display_data"
    },
    {
     "data": {
      "text/html": [
       "12:18:04 <a href=\"chrome-extension://amlfhnjjeeoiehoilfojobcadegeddio/restore_html.html\">chrome-extension://amlfhnjjeeoiehoilfojobcadegeddio/restore_html.html</a>"
      ],
      "text/plain": [
       "<IPython.core.display.HTML object>"
      ]
     },
     "metadata": {},
     "output_type": "display_data"
    },
    {
     "data": {
      "text/html": [
       "12:16:25 <a href=\"chrome-extension://amlfhnjjeeoiehoilfojobcadegeddio/restore_html.html\">chrome-extension://amlfhnjjeeoiehoilfojobcadegeddio/restore_html.html</a>"
      ],
      "text/plain": [
       "<IPython.core.display.HTML object>"
      ]
     },
     "metadata": {},
     "output_type": "display_data"
    },
    {
     "data": {
      "text/html": [
       "12:16:22 <a href=\"chrome-extension://amlfhnjjeeoiehoilfojobcadegeddio/restore_html.html\">chrome-extension://amlfhnjjeeoiehoilfojobcadegeddio/restore_html.html</a>"
      ],
      "text/plain": [
       "<IPython.core.display.HTML object>"
      ]
     },
     "metadata": {},
     "output_type": "display_data"
    },
    {
     "data": {
      "text/html": [
       "12:08:10 <a href=\"chrome-extension://amlfhnjjeeoiehoilfojobcadegeddio/restore_html.html\">chrome-extension://amlfhnjjeeoiehoilfojobcadegeddio/restore_html.html</a>"
      ],
      "text/plain": [
       "<IPython.core.display.HTML object>"
      ]
     },
     "metadata": {},
     "output_type": "display_data"
    },
    {
     "data": {
      "text/html": [
       "12:07:44 <a href=\"chrome-extension://amlfhnjjeeoiehoilfojobcadegeddio/restore_html.html\">chrome-extension://amlfhnjjeeoiehoilfojobcadegeddio/restore_html.html</a>"
      ],
      "text/plain": [
       "<IPython.core.display.HTML object>"
      ]
     },
     "metadata": {},
     "output_type": "display_data"
    },
    {
     "data": {
      "text/html": [
       "12:03:00 <a href=\"chrome-extension://amlfhnjjeeoiehoilfojobcadegeddio/restore_html.html\">chrome-extension://amlfhnjjeeoiehoilfojobcadegeddio/restore_html.html</a>"
      ],
      "text/plain": [
       "<IPython.core.display.HTML object>"
      ]
     },
     "metadata": {},
     "output_type": "display_data"
    },
    {
     "data": {
      "text/html": [
       "12:02:17 <a href=\"chrome-extension://amlfhnjjeeoiehoilfojobcadegeddio/restore_html.html\">chrome-extension://amlfhnjjeeoiehoilfojobcadegeddio/restore_html.html</a>"
      ],
      "text/plain": [
       "<IPython.core.display.HTML object>"
      ]
     },
     "metadata": {},
     "output_type": "display_data"
    },
    {
     "data": {
      "text/html": [
       "12:00:34 <a href=\"chrome-extension://amlfhnjjeeoiehoilfojobcadegeddio/restore_html.html\">chrome-extension://amlfhnjjeeoiehoilfojobcadegeddio/restore_html.html</a>"
      ],
      "text/plain": [
       "<IPython.core.display.HTML object>"
      ]
     },
     "metadata": {},
     "output_type": "display_data"
    },
    {
     "data": {
      "text/html": [
       "11:58:08 <a href=\"chrome-extension://amlfhnjjeeoiehoilfojobcadegeddio/restore_html.html\">chrome-extension://amlfhnjjeeoiehoilfojobcadegeddio/restore_html.html</a>"
      ],
      "text/plain": [
       "<IPython.core.display.HTML object>"
      ]
     },
     "metadata": {},
     "output_type": "display_data"
    },
    {
     "data": {
      "text/html": [
       "11:53:21 <a href=\"chrome-extension://amlfhnjjeeoiehoilfojobcadegeddio/restore_html.html\">chrome-extension://amlfhnjjeeoiehoilfojobcadegeddio/restore_html.html</a>"
      ],
      "text/plain": [
       "<IPython.core.display.HTML object>"
      ]
     },
     "metadata": {},
     "output_type": "display_data"
    },
    {
     "data": {
      "text/html": [
       "11:51:44 <a href=\"chrome-extension://joiedbmboggfhngpipokfailnnhjeejj/history.html\">chrome-extension://joiedbmboggfhngpipokfailnnhjeejj/history.html</a>"
      ],
      "text/plain": [
       "<IPython.core.display.HTML object>"
      ]
     },
     "metadata": {},
     "output_type": "display_data"
    },
    {
     "data": {
      "text/html": [
       "11:51:30 <a href=\"chrome-extension://joiedbmboggfhngpipokfailnnhjeejj/history.html\">chrome-extension://joiedbmboggfhngpipokfailnnhjeejj/history.html</a>"
      ],
      "text/plain": [
       "<IPython.core.display.HTML object>"
      ]
     },
     "metadata": {},
     "output_type": "display_data"
    },
    {
     "data": {
      "text/html": [
       "11:32:18 <a href=\"https://www.w3schools.com/js/js_function_bind.asp\">JavaScript Function bind() Method</a>"
      ],
      "text/plain": [
       "<IPython.core.display.HTML object>"
      ]
     },
     "metadata": {},
     "output_type": "display_data"
    },
    {
     "data": {
      "text/html": [
       "11:23:36 <a href=\"https://www.w3schools.com/js/js_function_call.asp\">JavaScript Function call() Method</a>"
      ],
      "text/plain": [
       "<IPython.core.display.HTML object>"
      ]
     },
     "metadata": {},
     "output_type": "display_data"
    },
    {
     "data": {
      "text/html": [
       "11:23:24 <a href=\"https://www.w3schools.com/js/js_string_search.asp\">JavaScript String Search</a>"
      ],
      "text/plain": [
       "<IPython.core.display.HTML object>"
      ]
     },
     "metadata": {},
     "output_type": "display_data"
    },
    {
     "data": {
      "text/html": [
       "11:23:14 <a href=\"https://www.w3schools.com/js/default.asp\">JavaScript Tutorial</a>"
      ],
      "text/plain": [
       "<IPython.core.display.HTML object>"
      ]
     },
     "metadata": {},
     "output_type": "display_data"
    },
    {
     "data": {
      "text/html": [
       "11:23:07 <a href=\"https://www.w3schools.com/\">W3Schools Online Web Tutorials</a>"
      ],
      "text/plain": [
       "<IPython.core.display.HTML object>"
      ]
     },
     "metadata": {},
     "output_type": "display_data"
    },
    {
     "data": {
      "text/html": [
       "11:23:06 <a href=\"https://www.google.com/search?q=w3schools&oq=w3schools&aqs=chrome..69i57j0i131i433i512l2j0i433i512j0i512l3j5.2114j0j4&sourceid=chrome&ie=UTF-8\">w3schools - Google Search</a>"
      ],
      "text/plain": [
       "<IPython.core.display.HTML object>"
      ]
     },
     "metadata": {},
     "output_type": "display_data"
    },
    {
     "data": {
      "text/html": [
       "11:23:00 <a href=\"https://groklearning.com/launch/#type=course\">Grok Academy</a>"
      ],
      "text/plain": [
       "<IPython.core.display.HTML object>"
      ]
     },
     "metadata": {},
     "output_type": "display_data"
    },
    {
     "data": {
      "text/html": [
       "11:22:57 <a href=\"https://groklearning.com/learn/microbit-crash-course/\">Grok Academy</a>"
      ],
      "text/plain": [
       "<IPython.core.display.HTML object>"
      ]
     },
     "metadata": {},
     "output_type": "display_data"
    },
    {
     "data": {
      "text/html": [
       "11:22:57 <a href=\"https://groklearning.com/login/?next=/learn/microbit-crash-course/\">Grok Academy</a>"
      ],
      "text/plain": [
       "<IPython.core.display.HTML object>"
      ]
     },
     "metadata": {},
     "output_type": "display_data"
    },
    {
     "data": {
      "text/html": [
       "11:22:53 <a href=\"https://groklearning.com/courses/\">Grok Academy</a>"
      ],
      "text/plain": [
       "<IPython.core.display.HTML object>"
      ]
     },
     "metadata": {},
     "output_type": "display_data"
    },
    {
     "data": {
      "text/html": [
       "11:22:53 <a href=\"https://groklearning.com/launch/#type=course\">Grok Academy</a>"
      ],
      "text/plain": [
       "<IPython.core.display.HTML object>"
      ]
     },
     "metadata": {},
     "output_type": "display_data"
    },
    {
     "data": {
      "text/html": [
       "11:22:49 <a href=\"https://groklearning.com/\">Grok Academy | Learn to code from your browser</a>"
      ],
      "text/plain": [
       "<IPython.core.display.HTML object>"
      ]
     },
     "metadata": {},
     "output_type": "display_data"
    },
    {
     "data": {
      "text/html": [
       "11:22:48 <a href=\"https://www.google.com/search?q=grok&oq=grok&aqs=chrome..69i57j46i175i199i433i512j0i433i512l2j0i512j46i175i199i512j0i512l3j0i271.2168j0j15&sourceid=chrome&ie=UTF-8\">grok - Google Search</a>"
      ],
      "text/plain": [
       "<IPython.core.display.HTML object>"
      ]
     },
     "metadata": {},
     "output_type": "display_data"
    },
    {
     "data": {
      "text/html": [
       "11:22:03 <a href=\"https://www.ufc.com/news/ufc-unfiltered-podcast-jim-norton-matt-serra-all-episodes-2023\">UFC UNFILTERED | Caolán Loughran, Actor Louis Mandylor, UFC Paris Preview with Guest Co-Host Phoenix Carnevale | UFC</a>"
      ],
      "text/plain": [
       "<IPython.core.display.HTML object>"
      ]
     },
     "metadata": {},
     "output_type": "display_data"
    },
    {
     "data": {
      "text/html": [
       "11:21:52 <a href=\"https://www.ufc.com/\">The Official Home of Ultimate Fighting Championship | UFC.com</a>"
      ],
      "text/plain": [
       "<IPython.core.display.HTML object>"
      ]
     },
     "metadata": {},
     "output_type": "display_data"
    },
    {
     "data": {
      "text/html": [
       "11:21:51 <a href=\"https://www.google.com/search?q=ufc&oq=ufc&aqs=chrome.0.0i271j46i131i433i512j0i131i433i512l2j0i433i512l3j0i131i433i512j0i433i512l2.2076j1j15&sourceid=chrome&ie=UTF-8\">ufc - Google Search</a>"
      ],
      "text/plain": [
       "<IPython.core.display.HTML object>"
      ]
     },
     "metadata": {},
     "output_type": "display_data"
    },
    {
     "data": {
      "text/html": [
       "11:21:46 <a href=\"https://www.google.com/search?q=ufc&oq=ufc&aqs=chrome.0.0i271j46i131i433i512j0i131i433i512l2j0i433i512l3j0i131i433i512j0i433i512l2.2076j1j15&sourceid=chrome&ie=UTF-8\">ufc - Google Search</a>"
      ],
      "text/plain": [
       "<IPython.core.display.HTML object>"
      ]
     },
     "metadata": {},
     "output_type": "display_data"
    },
    {
     "data": {
      "text/html": [
       "11:21:28 <a href=\"https://www.nytimes.com/international/\">The New York Times International - Breaking News, US News, World News, Videos</a>"
      ],
      "text/plain": [
       "<IPython.core.display.HTML object>"
      ]
     },
     "metadata": {},
     "output_type": "display_data"
    },
    {
     "data": {
      "text/html": [
       "11:21:26 <a href=\"https://www.nytimes.com/wirecutter/\">Wirecutter: New Product Reviews, Deals, and Buying Advice</a>"
      ],
      "text/plain": [
       "<IPython.core.display.HTML object>"
      ]
     },
     "metadata": {},
     "output_type": "display_data"
    },
    {
     "data": {
      "text/html": [
       "11:21:11 <a href=\"https://www.nytimes.com/wirecutter/\">Wirecutter: New Product Reviews, Deals, and Buying Advice</a>"
      ],
      "text/plain": [
       "<IPython.core.display.HTML object>"
      ]
     },
     "metadata": {},
     "output_type": "display_data"
    },
    {
     "data": {
      "text/html": [
       "11:21:10 <a href=\"https://www.nytimes.com/wirecutter/\">Wirecutter: New Product Reviews, Deals, and Buying Advice</a>"
      ],
      "text/plain": [
       "<IPython.core.display.HTML object>"
      ]
     },
     "metadata": {},
     "output_type": "display_data"
    },
    {
     "data": {
      "text/html": [
       "11:21:00 <a href=\"https://www.nytimes.com/international/\">The New York Times International - Breaking News, US News, World News, Videos</a>"
      ],
      "text/plain": [
       "<IPython.core.display.HTML object>"
      ]
     },
     "metadata": {},
     "output_type": "display_data"
    },
    {
     "data": {
      "text/html": [
       "11:20:56 <a href=\"https://www.nytimes.com/2023/09/01/business/college-admissions-essay-ai-chatbots.html\">Ban or Embrace? Colleges Wrestle With A.I.-Generated Admissions Essays. - The New York Times</a>"
      ],
      "text/plain": [
       "<IPython.core.display.HTML object>"
      ]
     },
     "metadata": {},
     "output_type": "display_data"
    },
    {
     "data": {
      "text/html": [
       "11:20:53 <a href=\"https://www.nytimes.com/international/\">The New York Times International - Breaking News, US News, World News, Videos</a>"
      ],
      "text/plain": [
       "<IPython.core.display.HTML object>"
      ]
     },
     "metadata": {},
     "output_type": "display_data"
    },
    {
     "data": {
      "text/html": [
       "11:20:47 <a href=\"https://www.nytimes.com/2023/09/01/business/chatbot-essays-harvard-yale-princeton-dartmouth.html\">We Used A.I. to Write Essays for Harvard, Yale and Princeton. Here’s How It Went. - The New York Times</a>"
      ],
      "text/plain": [
       "<IPython.core.display.HTML object>"
      ]
     },
     "metadata": {},
     "output_type": "display_data"
    },
    {
     "data": {
      "text/html": [
       "11:20:38 <a href=\"https://www.nytimes.com/international/\">The New York Times International - Breaking News, US News, World News, Videos</a>"
      ],
      "text/plain": [
       "<IPython.core.display.HTML object>"
      ]
     },
     "metadata": {},
     "output_type": "display_data"
    },
    {
     "data": {
      "text/html": [
       "11:20:37 <a href=\"https://www.google.com/search?q=nytimes&oq=nytimes&aqs=chrome.0.0i131i433i512l8j0i512l2.10690j0j15&sourceid=chrome&ie=UTF-8\">nytimes - Google Search</a>"
      ],
      "text/plain": [
       "<IPython.core.display.HTML object>"
      ]
     },
     "metadata": {},
     "output_type": "display_data"
    },
    {
     "data": {
      "text/html": [
       "11:20:36 <a href=\"https://www.google.com/search?q=nytimes&oq=nytimes&aqs=chrome.0.0i131i433i512l8j0i512l2.10690j0j15&sourceid=chrome&ie=UTF-8\">nytimes - Google Search</a>"
      ],
      "text/plain": [
       "<IPython.core.display.HTML object>"
      ]
     },
     "metadata": {},
     "output_type": "display_data"
    },
    {
     "name": "stdout",
     "output_type": "stream",
     "text": [
      "\n"
     ]
    }
   ],
   "source": [
    "# Alternatively ,print out the records for each day, time + url.title as hyperlink\n",
    "for name, group in grouped_by_day:\n",
    "    print(f\"Date:{name}\")\n",
    "    print(\"=\"*50)  #add separator between days\n",
    "    for index, row in group.iterrows():\n",
    "        #convert the title into a hyperlink pointing to the URL\n",
    "        # use the title for display if it exists, otherwise use the URL\n",
    "        display_text = row[\"title\"] if row[\"title\"] else row[\"url\"]\n",
    "        hyperlink = f'<a href=\"{row[\"url\"]}\">{display_text}</a>'\n",
    "        display(HTML(f\"{row['visit_time'].time()} {hyperlink}\"))\n",
    "    print()"
   ]
  },
  {
   "cell_type": "code",
   "execution_count": null,
   "id": "0839b3d7",
   "metadata": {},
   "outputs": [],
   "source": []
  },
  {
   "cell_type": "code",
   "execution_count": null,
   "id": "1ccd4693",
   "metadata": {},
   "outputs": [],
   "source": []
  }
 ],
 "metadata": {
  "kernelspec": {
   "display_name": "Python 3 (ipykernel)",
   "language": "python",
   "name": "python3"
  },
  "language_info": {
   "codemirror_mode": {
    "name": "ipython",
    "version": 3
   },
   "file_extension": ".py",
   "mimetype": "text/x-python",
   "name": "python",
   "nbconvert_exporter": "python",
   "pygments_lexer": "ipython3",
   "version": "3.10.2"
  }
 },
 "nbformat": 4,
 "nbformat_minor": 5
}
